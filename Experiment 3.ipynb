{
 "cells": [
  {
   "cell_type": "markdown",
   "id": "15dc2afd",
   "metadata": {},
   "source": [
    "# Clothes Segmentation. Experiment 3\n",
    "\n",
    "**Author:** Dmytro Lopushanskyy  \n",
    "**Date:** 14 June 2022  \n",
    "\n",
    "# Experiment Description\n",
    "\n",
    "## Increased Learning Rate\n",
    "\n",
    "The model is still learning slowly, and it is far from converging, this is why I decide to increase LR ten times from 0.01 to 0.1\n",
    "\n",
    "## Changed Optimizer\n",
    "\n",
    "Sometimes SGD optimizer might produce better results than Adam. I wanted to try it out, so I changed optimizer to SGD.\n",
    "\n",
    "## Increased Batch Size\n",
    "\n",
    "The model needs to learn faster, so I have increased batch size. This was not possible with the previous image size because of the out of memory error. That is why I have decreased the image size to 64 by 64.\n",
    "\n",
    "\n",
    "# Experiment Results\n",
    "\n",
    "I was able to achieve better metrics than in the previous experiment. The model seems to be converging faster.  \n",
    "Unfortunately, the predicted masks at the end of the notebook are still far from being correct.\n",
    "\n",
    "\n",
    "## Test Metrics\n",
    "\n",
    "'test_loss': 1.0702928304672241,  \n",
    "'test_acc': 0.6812779903411865,  \n",
    "'test_jaccard': 0.3078536093235016,  \n",
    "'test_f1': 0.23849835991859436  "
   ]
  },
  {
   "cell_type": "markdown",
   "id": "ddba9832",
   "metadata": {},
   "source": [
    "# Experiment Notebook"
   ]
  },
  {
   "cell_type": "code",
   "execution_count": 1,
   "id": "7586c2b7",
   "metadata": {},
   "outputs": [],
   "source": [
    "class_grouping = { \n",
    "    0: 0, 1: 0, 2: 0, 3: 0, 4: 1, 5: 1, 6: 2, 7: 2, 8: 2, 9: 1, 10: 2, \n",
    "    11: 1, 12: 1, 13: 3, 14: 3, 15: 3, 16: 4, 17: 5, 18: 5, 19: 6, \n",
    "    20: 7, 21: 7, 22: 7, 23: 7, 24: 8, 25: 4, 26: 8, 27: 0, 28: 4, 29: 4, \n",
    "    30: 4, 31: 5, 32: 2, 33: 4, 34: 6, 35: 1, 36: 2, 37: 9, 38: 9, 39: 9, \n",
    "    40: 9, 41: 9, 42: 9, 43: 9, 44: 9, 45: 9\n",
    "}\n",
    "\n",
    "new_class_desc = {\n",
    "    0: '(shirt, blouse, top, t-shirt, sweatshirt, sweater, cardigan, hood)',\n",
    "    1: '(jacket, vest, coat, jumpsuit, cape, zipper)',\n",
    "    2: '(pants, pocket, shorts, skirt, dress, applique)',\n",
    "    3: '(glasses, hat, headband, head covering, hair accessory)',\n",
    "    4: '(tie, scarf, collar, lapel, epaulette, neckline)',\n",
    "    5: '(glove, sleeve, watch)',\n",
    "    6: '(belt, buckle)',\n",
    "    7: '(leg warmer, tights, stockings, sock, shoe)',\n",
    "    8: '(bag, wallet, umbrella)',\n",
    "    9: 'decorations'\n",
    "}"
   ]
  },
  {
   "cell_type": "markdown",
   "id": "891798d5",
   "metadata": {},
   "source": [
    "## Config"
   ]
  },
  {
   "cell_type": "code",
   "execution_count": 2,
   "id": "3f9306f6",
   "metadata": {},
   "outputs": [],
   "source": [
    "config = {\n",
    "    'dataset_root': './',\n",
    "    'img_size': [64, 64],\n",
    "    'train': {\n",
    "        'img_path': './train'\n",
    "    },\n",
    "    'test': {\n",
    "        'img_path': './test'\n",
    "    },\n",
    "    'model': {\n",
    "        'lr': '1e-1',\n",
    "        'num_classes': 11,  # reduced here from 49 to 10\n",
    "        'num_layers': 5,\n",
    "        'features_start': 64,\n",
    "        'bilinear': False,\n",
    "        'grad_batches': 1,\n",
    "        'epochs': 100\n",
    "    },\n",
    "    'ignore_value': 10,\n",
    "    'batch_size': 64,\n",
    "    'data_size': -1  # take all data\n",
    "}"
   ]
  },
  {
   "cell_type": "markdown",
   "id": "b02288a5",
   "metadata": {},
   "source": [
    "## Imports"
   ]
  },
  {
   "cell_type": "code",
   "execution_count": 3,
   "id": "d7d1c7f2",
   "metadata": {},
   "outputs": [],
   "source": [
    "import os\n",
    "os.environ['CUDA_LAUNCH_BLOCKING'] = \"1\"\n",
    "\n",
    "import yaml\n",
    "import random\n",
    "import pickle\n",
    "import numpy as np\n",
    "import pandas as pd\n",
    "import json\n",
    "import cv2\n",
    "import torch\n",
    "import torch.nn.functional as F\n",
    "import albumentations as albu\n",
    "import torchvision.transforms as transforms\n",
    "from tqdm import tqdm\n",
    "from PIL import Image\n",
    "from pytorch_lightning.loggers import TensorBoardLogger\n",
    "from pytorch_lightning.loggers import WandbLogger\n",
    "from torchmetrics.classification import Accuracy\n",
    "from torchmetrics import F1Score, JaccardIndex  # IoU, F1\n",
    "from torch.utils.data import DataLoader, Dataset\n",
    "import matplotlib.pyplot as plt\n",
    "import pytorch_lightning as pl\n",
    "import warnings\n",
    "\n",
    "warnings.filterwarnings('ignore')\n",
    "device = torch.device(\"cuda:0\" if torch.cuda.is_available() else \"cpu\")"
   ]
  },
  {
   "cell_type": "markdown",
   "id": "5395cb0e",
   "metadata": {},
   "source": [
    "## EDA"
   ]
  },
  {
   "cell_type": "code",
   "execution_count": 4,
   "id": "330bbaae",
   "metadata": {},
   "outputs": [],
   "source": [
    "json_file_path = f'{config[\"dataset_root\"]}/label_descriptions.json'\n",
    "train_csv_path = f'{config[\"dataset_root\"]}/train.csv'\n",
    "\n",
    "with open(json_file_path, 'r') as j:\n",
    "    label_descriptions = json.loads(j.read())\n",
    "    \n",
    "train_df = pd.read_csv(train_csv_path)"
   ]
  },
  {
   "cell_type": "code",
   "execution_count": 5,
   "id": "c9fbab70",
   "metadata": {},
   "outputs": [
    {
     "data": {
      "text/html": [
       "<div>\n",
       "<style scoped>\n",
       "    .dataframe tbody tr th:only-of-type {\n",
       "        vertical-align: middle;\n",
       "    }\n",
       "\n",
       "    .dataframe tbody tr th {\n",
       "        vertical-align: top;\n",
       "    }\n",
       "\n",
       "    .dataframe thead th {\n",
       "        text-align: right;\n",
       "    }\n",
       "</style>\n",
       "<table border=\"1\" class=\"dataframe\">\n",
       "  <thead>\n",
       "    <tr style=\"text-align: right;\">\n",
       "      <th></th>\n",
       "      <th>ImageId</th>\n",
       "      <th>EncodedPixels</th>\n",
       "      <th>Height</th>\n",
       "      <th>Width</th>\n",
       "      <th>ClassId</th>\n",
       "    </tr>\n",
       "  </thead>\n",
       "  <tbody>\n",
       "    <tr>\n",
       "      <th>0</th>\n",
       "      <td>00000663ed1ff0c4e0132b9b9ac53f6e.jpg</td>\n",
       "      <td>6068157 7 6073371 20 6078584 34 6083797 48 608...</td>\n",
       "      <td>5214</td>\n",
       "      <td>3676</td>\n",
       "      <td>6</td>\n",
       "    </tr>\n",
       "    <tr>\n",
       "      <th>1</th>\n",
       "      <td>00000663ed1ff0c4e0132b9b9ac53f6e.jpg</td>\n",
       "      <td>6323163 11 6328356 32 6333549 53 6338742 75 63...</td>\n",
       "      <td>5214</td>\n",
       "      <td>3676</td>\n",
       "      <td>0</td>\n",
       "    </tr>\n",
       "    <tr>\n",
       "      <th>2</th>\n",
       "      <td>00000663ed1ff0c4e0132b9b9ac53f6e.jpg</td>\n",
       "      <td>8521389 10 8526585 30 8531789 42 8537002 46 85...</td>\n",
       "      <td>5214</td>\n",
       "      <td>3676</td>\n",
       "      <td>28</td>\n",
       "    </tr>\n",
       "    <tr>\n",
       "      <th>3</th>\n",
       "      <td>00000663ed1ff0c4e0132b9b9ac53f6e.jpg</td>\n",
       "      <td>12903854 2 12909064 7 12914275 10 12919485 15 ...</td>\n",
       "      <td>5214</td>\n",
       "      <td>3676</td>\n",
       "      <td>31</td>\n",
       "    </tr>\n",
       "    <tr>\n",
       "      <th>4</th>\n",
       "      <td>00000663ed1ff0c4e0132b9b9ac53f6e.jpg</td>\n",
       "      <td>10837337 5 10842542 14 10847746 24 10852951 33...</td>\n",
       "      <td>5214</td>\n",
       "      <td>3676</td>\n",
       "      <td>32</td>\n",
       "    </tr>\n",
       "    <tr>\n",
       "      <th>...</th>\n",
       "      <td>...</td>\n",
       "      <td>...</td>\n",
       "      <td>...</td>\n",
       "      <td>...</td>\n",
       "      <td>...</td>\n",
       "    </tr>\n",
       "    <tr>\n",
       "      <th>331208</th>\n",
       "      <td>fffe20b555b98c3c1f26c8dfff275cbc.jpg</td>\n",
       "      <td>2712731 8 2715725 23 2718719 39 2721713 55 272...</td>\n",
       "      <td>3000</td>\n",
       "      <td>2001</td>\n",
       "      <td>28</td>\n",
       "    </tr>\n",
       "    <tr>\n",
       "      <th>331209</th>\n",
       "      <td>ffffbf7014a9e408bfbb81a75bc70638.jpg</td>\n",
       "      <td>71179 1 71678 3 72178 4 72678 4 73178 5 73679 ...</td>\n",
       "      <td>500</td>\n",
       "      <td>375</td>\n",
       "      <td>33</td>\n",
       "    </tr>\n",
       "    <tr>\n",
       "      <th>331210</th>\n",
       "      <td>ffffbf7014a9e408bfbb81a75bc70638.jpg</td>\n",
       "      <td>116648 5 117148 16 117648 22 118148 26 118647 ...</td>\n",
       "      <td>500</td>\n",
       "      <td>375</td>\n",
       "      <td>31</td>\n",
       "    </tr>\n",
       "    <tr>\n",
       "      <th>331211</th>\n",
       "      <td>ffffbf7014a9e408bfbb81a75bc70638.jpg</td>\n",
       "      <td>67711 1 68210 1 68709 2 69204 2 69208 3 69705 ...</td>\n",
       "      <td>500</td>\n",
       "      <td>375</td>\n",
       "      <td>31</td>\n",
       "    </tr>\n",
       "    <tr>\n",
       "      <th>331212</th>\n",
       "      <td>ffffbf7014a9e408bfbb81a75bc70638.jpg</td>\n",
       "      <td>63365 36 63852 77 64343 85 64838 89 65332 94 6...</td>\n",
       "      <td>500</td>\n",
       "      <td>375</td>\n",
       "      <td>10</td>\n",
       "    </tr>\n",
       "  </tbody>\n",
       "</table>\n",
       "<p>331213 rows × 5 columns</p>\n",
       "</div>"
      ],
      "text/plain": [
       "                                     ImageId  \\\n",
       "0       00000663ed1ff0c4e0132b9b9ac53f6e.jpg   \n",
       "1       00000663ed1ff0c4e0132b9b9ac53f6e.jpg   \n",
       "2       00000663ed1ff0c4e0132b9b9ac53f6e.jpg   \n",
       "3       00000663ed1ff0c4e0132b9b9ac53f6e.jpg   \n",
       "4       00000663ed1ff0c4e0132b9b9ac53f6e.jpg   \n",
       "...                                      ...   \n",
       "331208  fffe20b555b98c3c1f26c8dfff275cbc.jpg   \n",
       "331209  ffffbf7014a9e408bfbb81a75bc70638.jpg   \n",
       "331210  ffffbf7014a9e408bfbb81a75bc70638.jpg   \n",
       "331211  ffffbf7014a9e408bfbb81a75bc70638.jpg   \n",
       "331212  ffffbf7014a9e408bfbb81a75bc70638.jpg   \n",
       "\n",
       "                                            EncodedPixels  Height  Width  \\\n",
       "0       6068157 7 6073371 20 6078584 34 6083797 48 608...    5214   3676   \n",
       "1       6323163 11 6328356 32 6333549 53 6338742 75 63...    5214   3676   \n",
       "2       8521389 10 8526585 30 8531789 42 8537002 46 85...    5214   3676   \n",
       "3       12903854 2 12909064 7 12914275 10 12919485 15 ...    5214   3676   \n",
       "4       10837337 5 10842542 14 10847746 24 10852951 33...    5214   3676   \n",
       "...                                                   ...     ...    ...   \n",
       "331208  2712731 8 2715725 23 2718719 39 2721713 55 272...    3000   2001   \n",
       "331209  71179 1 71678 3 72178 4 72678 4 73178 5 73679 ...     500    375   \n",
       "331210  116648 5 117148 16 117648 22 118148 26 118647 ...     500    375   \n",
       "331211  67711 1 68210 1 68709 2 69204 2 69208 3 69705 ...     500    375   \n",
       "331212  63365 36 63852 77 64343 85 64838 89 65332 94 6...     500    375   \n",
       "\n",
       "       ClassId  \n",
       "0            6  \n",
       "1            0  \n",
       "2           28  \n",
       "3           31  \n",
       "4           32  \n",
       "...        ...  \n",
       "331208      28  \n",
       "331209      33  \n",
       "331210      31  \n",
       "331211      31  \n",
       "331212      10  \n",
       "\n",
       "[331213 rows x 5 columns]"
      ]
     },
     "execution_count": 5,
     "metadata": {},
     "output_type": "execute_result"
    }
   ],
   "source": [
    "train_df"
   ]
  },
  {
   "cell_type": "markdown",
   "id": "8ab5846c",
   "metadata": {},
   "source": [
    "## Dataset Initialization"
   ]
  },
  {
   "cell_type": "code",
   "execution_count": 6,
   "id": "3cffa1d1",
   "metadata": {},
   "outputs": [],
   "source": [
    "class FashionDataset(Dataset):\n",
    "    ignore_value = config['ignore_value']\n",
    "    \n",
    "    def __init__(self, config, dataset_type='train', transform=None):\n",
    "        self.type = dataset_type\n",
    "        self.root_dir = config['dataset_root']\n",
    "        self.imgs_path = os.path.join(self.root_dir, config['train']['img_path'])\n",
    "        self.img_size = config['img_size']\n",
    "        self.transform = transform\n",
    "        \n",
    "        self.img_files = os.listdir(self.imgs_path)\n",
    "        data_size = config['data_size']\n",
    "        if data_size > 0:\n",
    "            self.img_files = os.listdir(self.imgs_path)[:data_size]\n",
    "        \n",
    "        \n",
    "    def __len__(self):\n",
    "        return len(self.img_files)\n",
    "    \n",
    "    def make_mask_img(self, segment_df):\n",
    "        seg_width = segment_df['Width'].iat[0]\n",
    "        seg_height = segment_df['Height'].iat[0]\n",
    "        seg_img = np.full(seg_width*seg_height, self.ignore_value, dtype=np.int32)\n",
    "        for encoded_pixels, class_id in zip(segment_df['EncodedPixels'].values, segment_df['ClassId'].values):\n",
    "            pixel_list = list(map(int, encoded_pixels.split(\" \")))\n",
    "            for i in range(0, len(pixel_list), 2):\n",
    "                start_index = pixel_list[i] - 1\n",
    "                index_len = pixel_list[i+1] - 1\n",
    "                cls_id = int(class_id.split(\"_\")[0])\n",
    "                new_cls_id = class_grouping[cls_id]\n",
    "                seg_img[start_index:start_index+index_len] = new_cls_id\n",
    "        seg_img = seg_img.reshape((seg_height, seg_width), order='F')\n",
    "        seg_img = cv2.resize(seg_img, self.img_size, interpolation=cv2.INTER_NEAREST)\n",
    "        return seg_img\n",
    "    \n",
    "    def __getitem__(self, idx):\n",
    "        img_name = self.img_files[idx]\n",
    "        \n",
    "        img = cv2.imread(f'{self.imgs_path}/{img_name}')\n",
    "        img = cv2.resize(img, self.img_size, interpolation=cv2.INTER_NEAREST)\n",
    "        segment_df = (train_df[train_df['ImageId'] == img_name]).reset_index(drop=True)\n",
    "        if segment_df['ImageId'].nunique() != 1:\n",
    "            raise Exception('Index Range Error')\n",
    "            \n",
    "        mask = self.make_mask_img(segment_df)\n",
    "        img = img.transpose((2, 0, 1))  # HWC -> CHW\n",
    "        \n",
    "        if self.transform:\n",
    "            transformed = self.transform(image=img, mask=mask)\n",
    "            img = transformed['image']\n",
    "            mask = transformed['mask']\n",
    "\n",
    "        return np.float32(img / 255), np.int32(mask)\n",
    "    \n",
    "def get_categories(mask):\n",
    "    \"\"\" Get category description from the mask \"\"\"\n",
    "    categories = np.unique(mask)\n",
    "    categories = np.delete(categories, np.where(categories == config['ignore_value']))  # filter\n",
    "    categories = [f\"{int(idx)} - {new_class_desc[idx]}\" for idx in categories]\n",
    "    return categories"
   ]
  },
  {
   "cell_type": "code",
   "execution_count": 7,
   "id": "846d2615",
   "metadata": {},
   "outputs": [],
   "source": [
    "dataset = FashionDataset(config)"
   ]
  },
  {
   "cell_type": "markdown",
   "id": "5106332e",
   "metadata": {},
   "source": [
    "# UNet\n",
    "\n",
    "UNet code below taken from Yura's lab"
   ]
  },
  {
   "cell_type": "code",
   "execution_count": 8,
   "id": "9a1e8c0e",
   "metadata": {},
   "outputs": [],
   "source": [
    "import torch\n",
    "import torch.nn as nn\n",
    "import torch.nn.functional as F\n",
    "\n",
    "class DoubleConv(nn.Module):\n",
    "    def __init__(self, in_ch, out_ch):\n",
    "        super().__init__()\n",
    "        self.net = nn.Sequential(\n",
    "            nn.Conv2d(in_ch, out_ch, kernel_size=3, padding=1),\n",
    "            nn.BatchNorm2d(out_ch),\n",
    "            nn.ReLU(inplace=True),\n",
    "            nn.Conv2d(out_ch, out_ch, kernel_size=3, padding=1),\n",
    "            nn.BatchNorm2d(out_ch),\n",
    "            nn.ReLU(inplace=True)\n",
    "        )\n",
    "        \n",
    "    def forward(self, x):\n",
    "        return self.net(x)\n",
    "    \n",
    "class Down(nn.Module):\n",
    "    def __init__(self, in_ch, out_ch):\n",
    "        super().__init__()\n",
    "        self.net = nn.Sequential(\n",
    "            nn.MaxPool2d(kernel_size=2, stride=2),\n",
    "            DoubleConv(in_ch, out_ch)\n",
    "        )\n",
    "        \n",
    "    def forward(self, x):\n",
    "        return self.net(x)\n",
    "    \n",
    "class Up(nn.Module):\n",
    "    def __init__(self, in_ch, out_ch, bilinear=False):\n",
    "        super().__init__()\n",
    "        self.unsample = None\n",
    "        if bilinear:\n",
    "            self.unsample = nn.Unsample(scale_factor=2, mode='bilinear', align_corners=True)\n",
    "        else:\n",
    "            self.unsample = nn.ConvTranspose2d(in_ch, in_ch // 2, kernel_size=2, stride=2)\n",
    "            \n",
    "        self.conv = DoubleConv(in_ch, out_ch)\n",
    "        \n",
    "    def forward(self, x1, x2):\n",
    "        x1 = self.unsample(x1)\n",
    "        \n",
    "        # Pad x1 to the size of x2\n",
    "        diff_h = x2.shape[2] - x1.shape[2]\n",
    "        diff_w = x2.shape[3] - x1.shape[3]\n",
    "        \n",
    "        x1 = F.pad(x1, [diff_w // 2, diff_w - diff_w // 2, diff_h // 2, diff_h - diff_h // 2])\n",
    "        \n",
    "        # Concatanate alond the channel axis\n",
    "        x = torch.cat([x2, x1], dim=1)\n",
    "        return self.conv(x)\n",
    "    \n",
    "class UNet(nn.Module):\n",
    "    def __init__(self, num_classes=19, num_layers=5, features_start=64, bilinear=False):\n",
    "        super().__init__()\n",
    "        self.num_layers = num_layers\n",
    "        \n",
    "        layers = [DoubleConv(3, features_start)]\n",
    "        \n",
    "        feats = features_start\n",
    "        for _ in range(num_layers-1):\n",
    "            layers.append(Down(feats, feats*2))\n",
    "            feats *= 2\n",
    "            \n",
    "        for _ in range(num_layers-1):\n",
    "            layers.append(Up(feats, feats//2))\n",
    "            feats //= 2\n",
    "            \n",
    "        layers.append(nn.Conv2d(feats, num_classes, kernel_size=1))\n",
    "        \n",
    "        self.layers = nn.ModuleList(layers)\n",
    "        \n",
    "    def forward(self, x):\n",
    "        xi = [self.layers[0](x)]\n",
    "        for layer in self.layers[1:self.num_layers]:\n",
    "            xi.append(layer(xi[-1]))\n",
    "        for i, layer in enumerate(self.layers[self.num_layers:-1]):\n",
    "            xi[-1] = layer(xi[-1], xi[-2-i])\n",
    "        return self.layers[-1](xi[-1])"
   ]
  },
  {
   "cell_type": "markdown",
   "id": "890d3135",
   "metadata": {},
   "source": [
    "## Own Model"
   ]
  },
  {
   "cell_type": "code",
   "execution_count": 9,
   "id": "6efd907a",
   "metadata": {},
   "outputs": [],
   "source": [
    "class SegModel(pl.LightningModule):\n",
    "    def __init__(self, config):\n",
    "        super().__init__()\n",
    "        self.config = config\n",
    "        self.lr = float(config['model']['lr'])\n",
    "        self.model = UNet(num_classes=self.config['model']['num_classes'], \n",
    "                          num_layers=self.config['model']['num_layers'],\n",
    "                          features_start=self.config['model']['features_start'],\n",
    "                          bilinear=self.config['model']['bilinear'])\n",
    "        self.accuracy = Accuracy(num_classes=self.config['model']['num_classes'], \n",
    "                                 ignore_index=config['ignore_value'],\n",
    "                                 mdmc_average='global')\n",
    "        self.jaccard = JaccardIndex(num_classes=self.config['model']['num_classes'],\n",
    "                                    ignore_index=config['ignore_value'],\n",
    "                                    mdmc_average='global')\n",
    "        self.f1 = F1Score(num_classes=self.config['model']['num_classes'], \n",
    "                          ignore_index=config['ignore_value'],\n",
    "                          mdmc_average='global')\n",
    "        \n",
    "    def forward(self, x):\n",
    "        return self.model(x)\n",
    "    \n",
    "    def training_step(self, batch, batch_idx):\n",
    "        img, mask = batch\n",
    "        img = img.float()\n",
    "        mask = mask.long()\n",
    "        \n",
    "        out = self(img)\n",
    "        joined_mask = out.argmax(axis=1)\n",
    "        \n",
    "        loss_val = F.cross_entropy(out, mask, ignore_index=FashionDataset.ignore_value)\n",
    "        \n",
    "        acc_res = self.accuracy(joined_mask, mask)\n",
    "        jac_res = self.jaccard(joined_mask, mask)\n",
    "        f1_res = self.f1(joined_mask, mask)\n",
    "        \n",
    "        self.log('train_loss', loss_val)\n",
    "        self.log(\"train_acc\", acc_res)\n",
    "        self.log(\"train_jaccard\", jac_res)\n",
    "        self.log(\"train_f1\", f1_res)\n",
    "        \n",
    "        return loss_val\n",
    "    \n",
    "    def test_step(self, batch, batch_idx):\n",
    "        img, mask = batch\n",
    "        img = img.float()\n",
    "        mask = mask.long()\n",
    "        \n",
    "        out = self(img)\n",
    "        joined_mask = out.argmax(axis=1)\n",
    "        \n",
    "        loss_val = F.cross_entropy(out, mask, ignore_index=FashionDataset.ignore_value)\n",
    "        \n",
    "        acc_res = self.accuracy(joined_mask, mask)\n",
    "        jac_res = self.jaccard(joined_mask, mask)\n",
    "        f1_res = self.f1(joined_mask, mask)\n",
    "        \n",
    "        self.log('test_loss', loss_val)\n",
    "        self.log(\"test_acc\", acc_res)\n",
    "        self.log(\"test_jaccard\", jac_res)\n",
    "        self.log(\"test_f1\", f1_res)\n",
    "\n",
    "    def configure_optimizers(self):\n",
    "        opt = torch.optim.SGD(self.model.parameters(), lr=self.lr, momentum=0.9)\n",
    "        sch = torch.optim.lr_scheduler.CosineAnnealingLR(opt, T_max=10)\n",
    "        return [opt], [sch]"
   ]
  },
  {
   "cell_type": "markdown",
   "id": "fea355a0",
   "metadata": {
    "execution": {
     "iopub.execute_input": "2022-05-02T14:33:27.60955Z",
     "iopub.status.busy": "2022-05-02T14:33:27.609226Z",
     "iopub.status.idle": "2022-05-02T14:33:27.614314Z",
     "shell.execute_reply": "2022-05-02T14:33:27.613196Z",
     "shell.execute_reply.started": "2022-05-02T14:33:27.609488Z"
    }
   },
   "source": [
    "## Lightning Data Module"
   ]
  },
  {
   "cell_type": "code",
   "execution_count": 10,
   "id": "8ef95f52",
   "metadata": {},
   "outputs": [],
   "source": [
    "class FasionDataModel(pl.LightningDataModule):\n",
    "    def __init__(self, config):\n",
    "        self.data_config = config\n",
    "        self.batch_size = config['batch_size']\n",
    "        self.prepare_data_per_node = True\n",
    "        self._log_hyperparams = True\n",
    "        \n",
    "        self.transform = albu.Compose([\n",
    "            albu.ShiftScaleRotate(shift_limit=0.0, scale_limit=0.1, rotate_limit=10, p=0.4),\n",
    "            albu.OneOf(\n",
    "                [\n",
    "                    albu.RandomBrightnessContrast(),\n",
    "                    albu.MedianBlur(),\n",
    "                ], \n",
    "                p=0.5\n",
    "            )\n",
    "        ])\n",
    "        \n",
    "        full_dataset = FashionDataset(config, transform=self.transform)\n",
    "        train_size = int(len(full_dataset) * 0.8)\n",
    "        val_size = len(full_dataset) - train_size\n",
    "        self.train_dataset, self.val_dataset = torch.utils.data.random_split(full_dataset, [train_size, val_size])\n",
    "        \n",
    "    def train_dataloader(self):\n",
    "        return DataLoader(self.train_dataset, batch_size=self.batch_size, shuffle=True, num_workers=64)\n",
    "    \n",
    "    def test_dataloader(self):\n",
    "        # evaluate on validation dataset\n",
    "        return DataLoader(self.val_dataset, batch_size=self.batch_size, shuffle=False, num_workers=64)"
   ]
  },
  {
   "cell_type": "code",
   "execution_count": 11,
   "id": "072dbd63",
   "metadata": {},
   "outputs": [],
   "source": [
    "model = SegModel(config)\n",
    "data_module = FasionDataModel(config)"
   ]
  },
  {
   "cell_type": "code",
   "execution_count": 12,
   "id": "0d8552ed",
   "metadata": {},
   "outputs": [
    {
     "name": "stderr",
     "output_type": "stream",
     "text": [
      "\u001b[34m\u001b[1mwandb\u001b[0m: Currently logged in as: \u001b[33mdlopushanskyy\u001b[0m. Use \u001b[1m`wandb login --relogin`\u001b[0m to force relogin\n"
     ]
    },
    {
     "data": {
      "text/html": [
       "wandb version 0.12.18 is available!  To upgrade, please run:\n",
       " $ pip install wandb --upgrade"
      ],
      "text/plain": [
       "<IPython.core.display.HTML object>"
      ]
     },
     "metadata": {},
     "output_type": "display_data"
    },
    {
     "data": {
      "text/html": [
       "Tracking run with wandb version 0.12.17"
      ],
      "text/plain": [
       "<IPython.core.display.HTML object>"
      ]
     },
     "metadata": {},
     "output_type": "display_data"
    },
    {
     "data": {
      "text/html": [
       "Run data is saved locally in <code>/home/dmytro/metric-learning/clothes/wandb/run-20220614_185950-3em1dzfi</code>"
      ],
      "text/plain": [
       "<IPython.core.display.HTML object>"
      ]
     },
     "metadata": {},
     "output_type": "display_data"
    },
    {
     "data": {
      "text/html": [
       "Syncing run <strong><a href=\"https://wandb.ai/dlopushanskyy/uncategorized/runs/3em1dzfi\" target=\"_blank\">happy-microwave-40</a></strong> to <a href=\"https://wandb.ai/dlopushanskyy/uncategorized\" target=\"_blank\">Weights & Biases</a> (<a href=\"https://wandb.me/run\" target=\"_blank\">docs</a>)<br/>"
      ],
      "text/plain": [
       "<IPython.core.display.HTML object>"
      ]
     },
     "metadata": {},
     "output_type": "display_data"
    }
   ],
   "source": [
    "wandb_logger = WandbLogger()"
   ]
  },
  {
   "cell_type": "code",
   "execution_count": 13,
   "id": "66e2c510",
   "metadata": {},
   "outputs": [
    {
     "name": "stderr",
     "output_type": "stream",
     "text": [
      "GPU available: True, used: True\n",
      "TPU available: False, using: 0 TPU cores\n",
      "IPU available: False, using: 0 IPUs\n",
      "HPU available: False, using: 0 HPUs\n"
     ]
    }
   ],
   "source": [
    "logger = TensorBoardLogger(\"tb_logs\", name=\"fashion_model\")\n",
    "trainer = pl.Trainer(\n",
    "    gpus=[0],\n",
    "    accelerator=\"auto\",\n",
    "    logger=wandb_logger,\n",
    "    max_epochs=config['model']['epochs'],\n",
    "    accumulate_grad_batches=config['model']['grad_batches'],\n",
    "    limit_train_batches=0.25,\n",
    "    limit_test_batches=0.25,\n",
    "    log_every_n_steps=500\n",
    ")"
   ]
  },
  {
   "cell_type": "code",
   "execution_count": 14,
   "id": "0fec273a",
   "metadata": {
    "scrolled": true
   },
   "outputs": [
    {
     "name": "stderr",
     "output_type": "stream",
     "text": [
      "LOCAL_RANK: 0 - CUDA_VISIBLE_DEVICES: [0,1,2]\n",
      "\n",
      "  | Name     | Type         | Params\n",
      "------------------------------------------\n",
      "0 | model    | UNet         | 31.0 M\n",
      "1 | accuracy | Accuracy     | 0     \n",
      "2 | jaccard  | JaccardIndex | 0     \n",
      "3 | f1       | F1Score      | 0     \n",
      "------------------------------------------\n",
      "31.0 M    Trainable params\n",
      "0         Non-trainable params\n",
      "31.0 M    Total params\n",
      "124.177   Total estimated model params size (MB)\n"
     ]
    },
    {
     "data": {
      "application/vnd.jupyter.widget-view+json": {
       "model_id": "5ea65b2144e44293abdc826eba38f713",
       "version_major": 2,
       "version_minor": 0
      },
      "text/plain": [
       "Training: 0it [00:00, ?it/s]"
      ]
     },
     "metadata": {},
     "output_type": "display_data"
    },
    {
     "name": "stderr",
     "output_type": "stream",
     "text": [
      "IOPub message rate exceeded.\n",
      "The notebook server will temporarily stop sending output\n",
      "to the client in order to avoid crashing it.\n",
      "To change this limit, set the config variable\n",
      "`--NotebookApp.iopub_msg_rate_limit`.\n",
      "\n",
      "Current values:\n",
      "NotebookApp.iopub_msg_rate_limit=1000.0 (msgs/sec)\n",
      "NotebookApp.rate_limit_window=3.0 (secs)\n",
      "\n"
     ]
    }
   ],
   "source": [
    "trainer.fit(model, data_module)"
   ]
  },
  {
   "cell_type": "code",
   "execution_count": 15,
   "id": "6bd806ab",
   "metadata": {},
   "outputs": [
    {
     "name": "stderr",
     "output_type": "stream",
     "text": [
      "LOCAL_RANK: 0 - CUDA_VISIBLE_DEVICES: [0,1,2]\n"
     ]
    },
    {
     "data": {
      "application/vnd.jupyter.widget-view+json": {
       "model_id": "90192747297f4e189a45589513eb013d",
       "version_major": 2,
       "version_minor": 0
      },
      "text/plain": [
       "Testing: 0it [00:00, ?it/s]"
      ]
     },
     "metadata": {},
     "output_type": "display_data"
    },
    {
     "name": "stdout",
     "output_type": "stream",
     "text": [
      "────────────────────────────────────────────────────────────────────────────────────────────────────────────────────────\n",
      "       Test metric             DataLoader 0\n",
      "────────────────────────────────────────────────────────────────────────────────────────────────────────────────────────\n",
      "        test_acc            0.6812779903411865\n",
      "         test_f1            0.23849835991859436\n",
      "      test_jaccard          0.3078536093235016\n",
      "        test_loss           1.0702928304672241\n",
      "────────────────────────────────────────────────────────────────────────────────────────────────────────────────────────\n"
     ]
    },
    {
     "data": {
      "text/plain": [
       "[{'test_loss': 1.0702928304672241,\n",
       "  'test_acc': 0.6812779903411865,\n",
       "  'test_jaccard': 0.3078536093235016,\n",
       "  'test_f1': 0.23849835991859436}]"
      ]
     },
     "execution_count": 15,
     "metadata": {},
     "output_type": "execute_result"
    }
   ],
   "source": [
    "trainer.test(model, data_module)"
   ]
  },
  {
   "cell_type": "markdown",
   "id": "153c12b4",
   "metadata": {},
   "source": [
    "## Save Model"
   ]
  },
  {
   "cell_type": "code",
   "execution_count": 16,
   "id": "2541279d",
   "metadata": {},
   "outputs": [],
   "source": [
    "pickle.dump(model, open('output/fashion-model-exp-3.pkl', 'wb'))"
   ]
  },
  {
   "cell_type": "markdown",
   "id": "a094c8a9",
   "metadata": {},
   "source": [
    "# WandB Visualization\n",
    "\n",
    "### All graphs look good, but they show clear signs of the model being not trained well enough. We could train more as the loss is not on plateau yet.\n",
    "\n",
    "![img](https://user-images.githubusercontent.com/25267308/173832767-964e4014-53e3-4a35-91c9-0f416e547d3f.png)"
   ]
  },
  {
   "cell_type": "markdown",
   "id": "2ca46000",
   "metadata": {},
   "source": [
    "# See Results\n",
    "\n",
    "Get random images from the test dataset to see the performance"
   ]
  },
  {
   "cell_type": "code",
   "execution_count": 17,
   "id": "0bfaaeb6",
   "metadata": {},
   "outputs": [],
   "source": [
    "N_IMAGES = 2"
   ]
  },
  {
   "cell_type": "code",
   "execution_count": 18,
   "id": "a6daeb80",
   "metadata": {},
   "outputs": [],
   "source": [
    "model.eval()\n",
    "test_loader = data_module.train_dataloader()\n",
    "img, mask_test = next(iter(test_loader))\n",
    "img = img.float()"
   ]
  },
  {
   "cell_type": "code",
   "execution_count": 19,
   "id": "d5656c06",
   "metadata": {},
   "outputs": [],
   "source": [
    "y = model.forward(img)"
   ]
  },
  {
   "cell_type": "code",
   "execution_count": 20,
   "id": "0e0d8362",
   "metadata": {},
   "outputs": [],
   "source": [
    "joined_mask = y.argmax(axis=1)[:N_IMAGES]"
   ]
  },
  {
   "cell_type": "code",
   "execution_count": 21,
   "id": "9fff1450",
   "metadata": {},
   "outputs": [],
   "source": [
    "img = np.array(img[:N_IMAGES])\n",
    "mask_test = mask_test[:N_IMAGES]"
   ]
  },
  {
   "cell_type": "code",
   "execution_count": 22,
   "id": "53f2ae71",
   "metadata": {
    "scrolled": false
   },
   "outputs": [
    {
     "name": "stdout",
     "output_type": "stream",
     "text": [
      "Train Example 0\n",
      "\n",
      "True Categories:\n",
      "2 - (pants, pocket, shorts, skirt, dress, applique)\n",
      "5 - (glove, sleeve, watch)\n",
      "7 - (leg warmer, tights, stockings, sock, shoe)\n",
      "8 - (bag, wallet, umbrella)\n",
      "\n",
      "Predicted Categories:\n",
      "0 - (shirt, blouse, top, t-shirt, sweatshirt, sweater, cardigan, hood)\n",
      "1 - (jacket, vest, coat, jumpsuit, cape, zipper)\n",
      "2 - (pants, pocket, shorts, skirt, dress, applique)\n",
      "3 - (glasses, hat, headband, head covering, hair accessory)\n",
      "4 - (tie, scarf, collar, lapel, epaulette, neckline)\n",
      "5 - (glove, sleeve, watch)\n",
      "7 - (leg warmer, tights, stockings, sock, shoe)\n",
      "8 - (bag, wallet, umbrella)\n",
      "\n",
      "Train Example 1\n",
      "\n",
      "True Categories:\n",
      "2 - (pants, pocket, shorts, skirt, dress, applique)\n",
      "5 - (glove, sleeve, watch)\n",
      "7 - (leg warmer, tights, stockings, sock, shoe)\n",
      "8 - (bag, wallet, umbrella)\n",
      "\n",
      "Predicted Categories:\n",
      "0 - (shirt, blouse, top, t-shirt, sweatshirt, sweater, cardigan, hood)\n",
      "1 - (jacket, vest, coat, jumpsuit, cape, zipper)\n",
      "2 - (pants, pocket, shorts, skirt, dress, applique)\n",
      "3 - (glasses, hat, headband, head covering, hair accessory)\n",
      "4 - (tie, scarf, collar, lapel, epaulette, neckline)\n",
      "5 - (glove, sleeve, watch)\n",
      "7 - (leg warmer, tights, stockings, sock, shoe)\n",
      "8 - (bag, wallet, umbrella)\n",
      "\n"
     ]
    },
    {
     "data": {
      "image/png": "[encoded data removed]",
      "text/plain": [
       "<Figure size 432x288 with 3 Axes>"
      ]
     },
     "metadata": {
      "needs_background": "light"
     },
     "output_type": "display_data"
    },
    {
     "data": {
      "image/png": "[encoded data removed]",
      "text/plain": [
       "<Figure size 1080x720 with 3 Axes>"
      ]
     },
     "metadata": {
      "needs_background": "light"
     },
     "output_type": "display_data"
    }
   ],
   "source": [
    "for i in range(N_IMAGES):\n",
    "    plt.rcParams['figure.figsize'] = [15, 10]\n",
    "    fig = plt.figure()\n",
    "\n",
    "    rows, cols = 1, 3\n",
    "\n",
    "    fig.add_subplot(rows, cols, 1)\n",
    "    plt.imshow(cv2.cvtColor(img[i].transpose((1, 2, 0)), cv2.COLOR_BGR2RGB))\n",
    "    plt.axis('off')\n",
    "    plt.title('Original Image')\n",
    "\n",
    "    fig.add_subplot(rows, cols, 2)\n",
    "    plt.imshow(mask_test[i])\n",
    "    plt.axis('off')\n",
    "    plt.title('True Mask')\n",
    "\n",
    "    fig.add_subplot(rows, cols, 3)\n",
    "    plt.imshow(joined_mask[i])\n",
    "    plt.axis('off')\n",
    "    plt.title('Predicted Mask')\n",
    "\n",
    "    plt.savefig(f'output/output_{i}.png')\n",
    "\n",
    "    print(f'Train Example {i}\\n')\n",
    "    new_line_ch = '\\n'\n",
    "    print(f'True Categories:\\n{new_line_ch.join(get_categories(mask_test))}\\n')\n",
    "    print(f'Predicted Categories:\\n{new_line_ch.join(get_categories(joined_mask))}\\n')"
   ]
  },
  {
   "cell_type": "markdown",
   "id": "ed88e0e3",
   "metadata": {},
   "source": [
    "### Unfortunately, the predicted masks are still far away from the true masks.\n",
    "\n",
    "Please continue to Experiment 4 for better results."
   ]
  }
 ],
 "metadata": {
  "kernelspec": {
   "display_name": "Python 3 (ipykernel)",
   "language": "python",
   "name": "python3"
  },
  "language_info": {
   "codemirror_mode": {
    "name": "ipython",
    "version": 3
   },
   "file_extension": ".py",
   "mimetype": "text/x-python",
   "name": "python",
   "nbconvert_exporter": "python",
   "pygments_lexer": "ipython3",
   "version": "3.9.12"
  }
 },
 "nbformat": 4,
 "nbformat_minor": 5
}
